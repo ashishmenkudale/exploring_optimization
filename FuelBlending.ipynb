{
 "cells": [
  {
   "cell_type": "code",
   "execution_count": null,
   "metadata": {},
   "outputs": [],
   "source": [
    "#LpProblem\n",
    "#LpVariable"
   ]
  },
  {
   "cell_type": "code",
   "execution_count": 1,
   "metadata": {
    "ExecuteTime": {
     "end_time": "2021-10-02T22:03:34.342708Z",
     "start_time": "2021-10-02T22:03:34.231299Z"
    }
   },
   "outputs": [],
   "source": [
    "from pulp import *"
   ]
  },
  {
   "cell_type": "code",
   "execution_count": 3,
   "metadata": {
    "ExecuteTime": {
     "end_time": "2021-10-02T22:04:31.578965Z",
     "start_time": "2021-10-02T22:04:31.560934Z"
    }
   },
   "outputs": [
    {
     "name": "stderr",
     "output_type": "stream",
     "text": [
      "C:\\ProgramData\\Anaconda3\\lib\\site-packages\\pulp\\pulp.py:1313: UserWarning: Spaces are not permitted in the name. Converted to '_'\n",
      "  warnings.warn(\"Spaces are not permitted in the name. Converted to '_'\")\n"
     ]
    }
   ],
   "source": [
    "#https://web.stanford.edu/class/archive/ee/ee392m/ee392m.1056/Lecture12_Optimization.pdf\n",
    "prob = LpProblem(\"The blending Problem\", LpMaximize)"
   ]
  },
  {
   "cell_type": "code",
   "execution_count": 5,
   "metadata": {
    "ExecuteTime": {
     "end_time": "2021-10-02T22:11:43.000154Z",
     "start_time": "2021-10-02T22:11:42.989156Z"
    }
   },
   "outputs": [],
   "source": [
    "S1A = LpVariable(\"UsedStockOneInA\", 0, 2000, LpInteger)\n",
    "S1B = LpVariable(\"UsedStockOneInB\", 0, 2000, LpInteger)\n",
    "\n",
    "S2A = LpVariable(\"UsedStockTwoInA\", 0, 4000, LpInteger)\n",
    "S2B = LpVariable(\"UsedStockTwoInB\", 0, 4000, LpInteger)\n",
    "\n",
    "S3A = LpVariable(\"UsedStockThreeInA\", 0, 4000, LpInteger)\n",
    "S3B = LpVariable(\"UsedStockThreeInB\", 0, 4000, LpInteger)\n",
    "\n",
    "S4A = LpVariable(\"UsedStockFourInA\", 0, 5000, LpInteger)\n",
    "S4B = LpVariable(\"UsedStockFourInB\", 0, 5000, LpInteger)\n",
    "\n",
    "S5A = LpVariable(\"UsedStockFiveInA\", 0, 3000, LpInteger)\n",
    "S5B = LpVariable(\"UsedStockFiveInB\", 0, 3000, LpInteger)\n",
    "\n",
    "US1 = LpVariable(\"UnusedStockOne\", 0, None, LpInteger)\n",
    "US2 = LpVariable(\"UnusedStockTwo\", 0, None, LpInteger)\n",
    "US3 = LpVariable(\"UnusedStockThree\", 0, None, LpInteger)\n",
    "US4 = LpVariable(\"UnusedStockFour\", 0, None, LpInteger)\n",
    "US5 = LpVariable(\"UnusedStockFive\", 0, None, LpInteger)\n",
    "\n",
    "FA = LpVariable(\"FuelBlendA\", 0, None, LpInteger)\n",
    "FB = LpVariable(\"FuelBlendB\", 0, None, LpInteger)"
   ]
  },
  {
   "cell_type": "code",
   "execution_count": 6,
   "metadata": {
    "ExecuteTime": {
     "end_time": "2021-10-02T22:14:15.774968Z",
     "start_time": "2021-10-02T22:14:15.759971Z"
    }
   },
   "outputs": [],
   "source": [
    "prob += (9*US1) + (12.5*US2) + (12.5*US3) + (27.5*US4) + (27.5*US5) + (37.5*FA) + (28.5*FB), \"maximize value of total unused stock and income\""
   ]
  },
  {
   "cell_type": "code",
   "execution_count": 7,
   "metadata": {
    "ExecuteTime": {
     "end_time": "2021-10-02T22:17:43.714330Z",
     "start_time": "2021-10-02T22:17:43.702322Z"
    }
   },
   "outputs": [],
   "source": [
    "prob += S1A + S1B + US1 == 2000, \"TotalAvailabilityOfStock1\"\n",
    "prob += S2A + S2B + US2 == 4000, \"TotalAvailabilityOfStock2\"\n",
    "prob += S3A + S3B + US3 == 4000, \"TotalAvailabilityOfStock3\"\n",
    "prob += S4A + S4B + US4 == 5000, \"TotalAvailabilityOfStock4\"\n",
    "prob += S5A + S5B + US5 == 3000, \"TotalAvailabilityOfStock5\""
   ]
  },
  {
   "cell_type": "code",
   "execution_count": 8,
   "metadata": {
    "ExecuteTime": {
     "end_time": "2021-10-02T22:19:22.539134Z",
     "start_time": "2021-10-02T22:19:22.532118Z"
    }
   },
   "outputs": [],
   "source": [
    "prob += S1A + S2A + S3A + S4A + S5A == FA, \"TotalQuantityOfBlendA\"\n",
    "prob += S1B + S2B + S3B + S4B + S5B == FB, \"TotalQuantityOfBlendB\""
   ]
  },
  {
   "cell_type": "code",
   "execution_count": 9,
   "metadata": {
    "ExecuteTime": {
     "end_time": "2021-10-02T22:21:26.628080Z",
     "start_time": "2021-10-02T22:21:26.618078Z"
    }
   },
   "outputs": [],
   "source": [
    "prob += (70*S1A) + (80*S2A) + (85*S3A) + (90*S4A) + (99*S5A)  >= 93*FA, \"QualityOfBlendA\"\n",
    "prob += (70*S1B) + (80*S2B) + (85*S3B) + (90*S4B) + (99*S5B)  >= 85*FB, \"QualityOfBlendB\""
   ]
  },
  {
   "cell_type": "code",
   "execution_count": 10,
   "metadata": {
    "ExecuteTime": {
     "end_time": "2021-10-02T22:21:54.107281Z",
     "start_time": "2021-10-02T22:21:54.077319Z"
    }
   },
   "outputs": [
    {
     "data": {
      "text/plain": [
       "[FuelBlendA,\n",
       " FuelBlendB,\n",
       " UnusedStockFive,\n",
       " UnusedStockFour,\n",
       " UnusedStockOne,\n",
       " UnusedStockThree,\n",
       " UnusedStockTwo,\n",
       " UsedStockFiveInA,\n",
       " UsedStockFiveInB,\n",
       " UsedStockFourInA,\n",
       " UsedStockFourInB,\n",
       " UsedStockOneInA,\n",
       " UsedStockOneInB,\n",
       " UsedStockThreeInA,\n",
       " UsedStockThreeInB,\n",
       " UsedStockTwoInA,\n",
       " UsedStockTwoInB]"
      ]
     },
     "execution_count": 10,
     "metadata": {},
     "output_type": "execute_result"
    }
   ],
   "source": [
    "prob.writeLP(\"BlendModel.lp\")"
   ]
  },
  {
   "cell_type": "code",
   "execution_count": 11,
   "metadata": {
    "ExecuteTime": {
     "end_time": "2021-10-02T22:22:02.772772Z",
     "start_time": "2021-10-02T22:22:02.315782Z"
    }
   },
   "outputs": [
    {
     "data": {
      "text/plain": [
       "1"
      ]
     },
     "execution_count": 11,
     "metadata": {},
     "output_type": "execute_result"
    }
   ],
   "source": [
    "prob.solve()"
   ]
  },
  {
   "cell_type": "code",
   "execution_count": 12,
   "metadata": {
    "ExecuteTime": {
     "end_time": "2021-10-02T22:22:21.472276Z",
     "start_time": "2021-10-02T22:22:21.461277Z"
    }
   },
   "outputs": [
    {
     "name": "stdout",
     "output_type": "stream",
     "text": [
      "Status: Optimal\n"
     ]
    }
   ],
   "source": [
    "print(\"Status:\", LpStatus[prob.status])"
   ]
  },
  {
   "cell_type": "code",
   "execution_count": 13,
   "metadata": {
    "ExecuteTime": {
     "end_time": "2021-10-02T22:22:31.400922Z",
     "start_time": "2021-10-02T22:22:31.376889Z"
    },
    "scrolled": true
   },
   "outputs": [
    {
     "name": "stdout",
     "output_type": "stream",
     "text": [
      "FuelBlendA = 2125.0\n",
      "FuelBlendB = 15875.0\n",
      "UnusedStockFive = 0.0\n",
      "UnusedStockFour = 0.0\n",
      "UnusedStockOne = 0.0\n",
      "UnusedStockThree = 0.0\n",
      "UnusedStockTwo = 0.0\n",
      "UsedStockFiveInA = 710.0\n",
      "UsedStockFiveInB = 2290.0\n",
      "UsedStockFourInA = 1413.0\n",
      "UsedStockFourInB = 3587.0\n",
      "UsedStockOneInA = 0.0\n",
      "UsedStockOneInB = 2000.0\n",
      "UsedStockThreeInA = 1.0\n",
      "UsedStockThreeInB = 3999.0\n",
      "UsedStockTwoInA = 1.0\n",
      "UsedStockTwoInB = 3999.0\n"
     ]
    }
   ],
   "source": [
    "for v in prob.variables():\n",
    "    print(v.name, \"=\", v.varValue)"
   ]
  },
  {
   "cell_type": "code",
   "execution_count": 14,
   "metadata": {
    "ExecuteTime": {
     "end_time": "2021-10-02T22:22:58.094694Z",
     "start_time": "2021-10-02T22:22:58.087732Z"
    }
   },
   "outputs": [
    {
     "name": "stdout",
     "output_type": "stream",
     "text": [
      "Total Income from two blends =  532125.0\n"
     ]
    }
   ],
   "source": [
    "print(\"Total Income from two blends = \", value(prob.objective))"
   ]
  },
  {
   "cell_type": "code",
   "execution_count": null,
   "metadata": {},
   "outputs": [],
   "source": []
  },
  {
   "cell_type": "code",
   "execution_count": null,
   "metadata": {},
   "outputs": [],
   "source": []
  },
  {
   "cell_type": "code",
   "execution_count": 15,
   "metadata": {
    "ExecuteTime": {
     "end_time": "2021-10-02T22:37:42.653359Z",
     "start_time": "2021-10-02T22:37:42.637359Z"
    }
   },
   "outputs": [],
   "source": [
    "from pulp import *"
   ]
  },
  {
   "cell_type": "code",
   "execution_count": 110,
   "metadata": {
    "ExecuteTime": {
     "end_time": "2021-10-02T23:24:32.254831Z",
     "start_time": "2021-10-02T23:24:32.245796Z"
    }
   },
   "outputs": [],
   "source": [
    "#https://www.engineeringenotes.com/project-management-2/operations-research/balanced-and-unbalanced-transportation-problem-operations-research/15633\n",
    "\n",
    "#supply nodes\n",
    "warehouses = ['O1', 'O2', 'O3', 'D']\n",
    "\n",
    "# Creates a dictionary for the number of units of supply for each supply node\n",
    "supply = {\"O1\": 70, \"O2\": 55, \"O3\": 70, \"D\": 20} #d\n",
    "\n",
    "# Creates a list of all demand nodes\n",
    "Destinations = [\"D1\", \"D2\", \"D3\", \"D4\"] \n",
    "\n",
    "# Creates a dictionary for the number of units of demand for each demand node\n",
    "demand = {\"D1\": 85, \"D2\": 35, \"D3\": 50, \"D4\": 45} #M\n",
    "\n",
    "# Creates a list of costs of each transportation path\n",
    "costs = [  # Destinations\n",
    "    # 1   2   3   4\n",
    "    [6,  1,  9,  3],  # O1   Supply Nodes\n",
    "    [11, 5,  2,  8],  # O2\n",
    "    [10, 12, 4,  7],  # O3\n",
    "    [0,  0,  0,  0],  # D\n",
    "]"
   ]
  },
  {
   "cell_type": "code",
   "execution_count": 111,
   "metadata": {
    "ExecuteTime": {
     "end_time": "2021-10-02T23:24:32.874233Z",
     "start_time": "2021-10-02T23:24:32.868231Z"
    }
   },
   "outputs": [],
   "source": [
    "# The cost data is made into a dictionary\n",
    "costs = makeDict([warehouses, Destinations],costs,0)"
   ]
  },
  {
   "cell_type": "code",
   "execution_count": 112,
   "metadata": {
    "ExecuteTime": {
     "end_time": "2021-10-02T23:24:33.405678Z",
     "start_time": "2021-10-02T23:24:33.386681Z"
    }
   },
   "outputs": [],
   "source": [
    "# Creates the 'prob' variable to contain the problem data\n",
    "prob = LpProblem(\"Unbalanced Transportation Problem\",LpMinimize)"
   ]
  },
  {
   "cell_type": "code",
   "execution_count": 113,
   "metadata": {
    "ExecuteTime": {
     "end_time": "2021-10-02T23:24:33.861648Z",
     "start_time": "2021-10-02T23:24:33.850629Z"
    }
   },
   "outputs": [
    {
     "data": {
      "text/plain": [
       "[('O1', 'D1'),\n",
       " ('O1', 'D2'),\n",
       " ('O1', 'D3'),\n",
       " ('O1', 'D4'),\n",
       " ('O2', 'D1'),\n",
       " ('O2', 'D2'),\n",
       " ('O2', 'D3'),\n",
       " ('O2', 'D4'),\n",
       " ('O3', 'D1'),\n",
       " ('O3', 'D2'),\n",
       " ('O3', 'D3'),\n",
       " ('O3', 'D4'),\n",
       " ('D', 'D1'),\n",
       " ('D', 'D2'),\n",
       " ('D', 'D3'),\n",
       " ('D', 'D4')]"
      ]
     },
     "execution_count": 113,
     "metadata": {},
     "output_type": "execute_result"
    }
   ],
   "source": [
    "# Creates a list of tuples containing all the possible routes for transport\n",
    "Routes = [(w,d) for w in warehouses for d in Destinations]\n",
    "Routes"
   ]
  },
  {
   "cell_type": "code",
   "execution_count": 114,
   "metadata": {
    "ExecuteTime": {
     "end_time": "2021-10-02T23:24:34.376881Z",
     "start_time": "2021-10-02T23:24:34.358847Z"
    }
   },
   "outputs": [
    {
     "data": {
      "text/plain": [
       "{'O1': {'D1': Route_O1_D1,\n",
       "  'D2': Route_O1_D2,\n",
       "  'D3': Route_O1_D3,\n",
       "  'D4': Route_O1_D4},\n",
       " 'O2': {'D1': Route_O2_D1,\n",
       "  'D2': Route_O2_D2,\n",
       "  'D3': Route_O2_D3,\n",
       "  'D4': Route_O2_D4},\n",
       " 'O3': {'D1': Route_O3_D1,\n",
       "  'D2': Route_O3_D2,\n",
       "  'D3': Route_O3_D3,\n",
       "  'D4': Route_O3_D4},\n",
       " 'D': {'D1': Route_D_D1, 'D2': Route_D_D2, 'D3': Route_D_D3, 'D4': Route_D_D4}}"
      ]
     },
     "execution_count": 114,
     "metadata": {},
     "output_type": "execute_result"
    }
   ],
   "source": [
    "# A dictionary called 'Vars' is created to contain the referenced variables(the routes)\n",
    "vars = LpVariable.dicts(\"Route\",(warehouses, Destinations), 0, None, LpInteger)\n",
    "vars"
   ]
  },
  {
   "cell_type": "code",
   "execution_count": 115,
   "metadata": {
    "ExecuteTime": {
     "end_time": "2021-10-02T23:24:34.897556Z",
     "start_time": "2021-10-02T23:24:34.886588Z"
    }
   },
   "outputs": [],
   "source": [
    "# The objective function is added to 'prob' first\n",
    "prob += lpSum([vars[w][d]*costs[w][d] for (w,d) in Routes]), \"Sum_of_Transporting_Costs\""
   ]
  },
  {
   "cell_type": "code",
   "execution_count": 116,
   "metadata": {
    "ExecuteTime": {
     "end_time": "2021-10-02T23:24:38.089555Z",
     "start_time": "2021-10-02T23:24:38.073563Z"
    }
   },
   "outputs": [],
   "source": [
    "# The supply maximum constraints are added to prob for each supply node (warehouse)\n",
    "for w in warehouses:\n",
    "    prob += lpSum([vars[w][d] for d in Destinations]) <= supply[w], \"Sum_of_Products_out_of_Warehouse_%s\"%w"
   ]
  },
  {
   "cell_type": "code",
   "execution_count": 117,
   "metadata": {
    "ExecuteTime": {
     "end_time": "2021-10-02T23:24:38.497910Z",
     "start_time": "2021-10-02T23:24:38.491913Z"
    }
   },
   "outputs": [],
   "source": [
    "# The demand minimum constraints are added to prob for each demand node (bar)\n",
    "for d in Destinations:\n",
    "    prob += lpSum([vars[w][d] for w in warehouses]) >= demand[d], \"Sum_of_Products_into_Destinations%s\"%d"
   ]
  },
  {
   "cell_type": "code",
   "execution_count": 118,
   "metadata": {
    "ExecuteTime": {
     "end_time": "2021-10-02T23:24:39.091460Z",
     "start_time": "2021-10-02T23:24:39.077495Z"
    }
   },
   "outputs": [
    {
     "data": {
      "text/plain": [
       "[Route_D_D1,\n",
       " Route_D_D2,\n",
       " Route_D_D3,\n",
       " Route_D_D4,\n",
       " Route_O1_D1,\n",
       " Route_O1_D2,\n",
       " Route_O1_D3,\n",
       " Route_O1_D4,\n",
       " Route_O2_D1,\n",
       " Route_O2_D2,\n",
       " Route_O2_D3,\n",
       " Route_O2_D4,\n",
       " Route_O3_D1,\n",
       " Route_O3_D2,\n",
       " Route_O3_D3,\n",
       " Route_O3_D4]"
      ]
     },
     "execution_count": 118,
     "metadata": {},
     "output_type": "execute_result"
    }
   ],
   "source": [
    "# The problem data is written to an .lp file\n",
    "prob.writeLP(\"UnbalancedTransportationProblem.lp\")"
   ]
  },
  {
   "cell_type": "code",
   "execution_count": 119,
   "metadata": {
    "ExecuteTime": {
     "end_time": "2021-10-02T23:24:40.270686Z",
     "start_time": "2021-10-02T23:24:40.171689Z"
    }
   },
   "outputs": [
    {
     "data": {
      "text/plain": [
       "1"
      ]
     },
     "execution_count": 119,
     "metadata": {},
     "output_type": "execute_result"
    }
   ],
   "source": [
    "# The problem is solved using PuLP's choice of Solver\n",
    "prob.solve()"
   ]
  },
  {
   "cell_type": "code",
   "execution_count": 120,
   "metadata": {
    "ExecuteTime": {
     "end_time": "2021-10-02T23:24:42.602640Z",
     "start_time": "2021-10-02T23:24:42.587642Z"
    }
   },
   "outputs": [
    {
     "name": "stdout",
     "output_type": "stream",
     "text": [
      "Status: Optimal\n"
     ]
    }
   ],
   "source": [
    "# The status of the solution is printed to the screen\n",
    "print(\"Status:\", LpStatus[prob.status])"
   ]
  },
  {
   "cell_type": "code",
   "execution_count": 121,
   "metadata": {
    "ExecuteTime": {
     "end_time": "2021-10-02T23:24:43.011717Z",
     "start_time": "2021-10-02T23:24:43.002716Z"
    }
   },
   "outputs": [
    {
     "name": "stdout",
     "output_type": "stream",
     "text": [
      "Route_D_D1 = 20.0\n",
      "Route_D_D2 = 0.0\n",
      "Route_D_D3 = 0.0\n",
      "Route_D_D4 = 0.0\n",
      "Route_O1_D1 = 0.0\n",
      "Route_O1_D2 = 30.0\n",
      "Route_O1_D3 = 0.0\n",
      "Route_O1_D4 = 40.0\n",
      "Route_O2_D1 = 0.0\n",
      "Route_O2_D2 = 5.0\n",
      "Route_O2_D3 = 50.0\n",
      "Route_O2_D4 = 0.0\n",
      "Route_O3_D1 = 65.0\n",
      "Route_O3_D2 = 0.0\n",
      "Route_O3_D3 = 0.0\n",
      "Route_O3_D4 = 5.0\n"
     ]
    }
   ],
   "source": [
    "# Each of the variables is printed with it's resolved optimum value\n",
    "for v in prob.variables():\n",
    "    print(v.name, \"=\", v.varValue)"
   ]
  },
  {
   "cell_type": "code",
   "execution_count": 122,
   "metadata": {
    "ExecuteTime": {
     "end_time": "2021-10-02T23:24:44.216860Z",
     "start_time": "2021-10-02T23:24:44.204827Z"
    }
   },
   "outputs": [
    {
     "name": "stdout",
     "output_type": "stream",
     "text": [
      "Total Cost of Transportation =  960.0\n"
     ]
    }
   ],
   "source": [
    "# The optimised objective function value is printed to the screen    \n",
    "print(\"Total Cost of Transportation = \", value(prob.objective))"
   ]
  },
  {
   "cell_type": "code",
   "execution_count": null,
   "metadata": {},
   "outputs": [],
   "source": []
  },
  {
   "cell_type": "code",
   "execution_count": null,
   "metadata": {},
   "outputs": [],
   "source": [
    "#https://personal.utdallas.edu/~scniu/OPRE-6201/documents/LP01-Production-Planning.pdf\n",
    "#https://www.gurobi.com/resource/hp-williams-modeling-examples/"
   ]
  },
  {
   "cell_type": "code",
   "execution_count": null,
   "metadata": {},
   "outputs": [],
   "source": []
  },
  {
   "cell_type": "code",
   "execution_count": null,
   "metadata": {},
   "outputs": [],
   "source": []
  },
  {
   "cell_type": "code",
   "execution_count": null,
   "metadata": {},
   "outputs": [],
   "source": []
  },
  {
   "cell_type": "code",
   "execution_count": 125,
   "metadata": {
    "ExecuteTime": {
     "end_time": "2021-10-03T00:38:38.699364Z",
     "start_time": "2021-10-03T00:38:36.799008Z"
    }
   },
   "outputs": [],
   "source": [
    "import numpy as np\n",
    "import pandas as pd\n",
    "\n",
    "import gurobipy as gp\n",
    "from gurobipy import GRB"
   ]
  },
  {
   "cell_type": "code",
   "execution_count": 132,
   "metadata": {
    "ExecuteTime": {
     "end_time": "2021-10-03T00:39:52.412490Z",
     "start_time": "2021-10-03T00:39:52.398495Z"
    }
   },
   "outputs": [],
   "source": [
    "products = [\"P1\", \"P2\", \"P3\", \"P4\", \"P5\", \"P6\"]\n",
    "machines = [\"inspectionTable\", \"CNC1\", \"CNC2\", \"grinder\", \"planer\", \"reassemblyArea\"]\n",
    "months = [\"Jan\", \"Feb\", \"Mar\", \"Apr\", \"May\"]\n",
    "\n",
    "profit = {\"P1\":10, \"P2\":15, \"P3\":8, \"P4\":6, \"P5\":6, \"P6\":10}\n",
    "\n",
    "time_req = {\n",
    "    \"inspectionTable\": {\"P1\": 0.5, \"P2\": 0.7, \"P3\": 0.8, \"P4\": 0.6, \"P5\": 0.3, \"P6\": 0.2},\n",
    "    \"CNC1\": {\"P1\": 0.3, \"P3\": 0.3, \"P5\": 0.6},\n",
    "    \"CNC2\": {\"P1\": 0.2, \"P5\": 0.8, \"P6\": 0.6},\n",
    "    \"grinder\": {\"P1\": 0.05,\"P2\": 0.03,\"P3\": 0.07, \"P5\": 0.1, \"P6\": 0.08},\n",
    "    \"planer\": {\"P1\": 0.5, \"P2\": 0.2, \"P4\": 0.3, \"P6\": 0.6},\n",
    "    \"reassemblyArea\" : {\"P1\": 0.3, \"P2\": 0.7, \"P3\": 0.3, \"P4\": 0.6, \"P5\": 0.3, \"P6\": 0.2}\n",
    "}\n",
    "\n",
    "\n",
    "# number of machines down\n",
    "down = {(\"Jan\",\"inspectionTable\"): 1, (\"Jan\",\"ReassemblyArea\"): 2, \n",
    "        (\"Feb\", \"CNC2\"): 2, \n",
    "        (\"Mar\", \"grinder\"): 1,\n",
    "        (\"Apr\", \"CNC1\"): 1, \n",
    "        (\"May\", \"inspectionTable\"): 1, (\"May\", \"CNC1\"): 1}\n",
    "\n",
    "# number of each machine available\n",
    "installed = {\"inspectionTable\":3, \"CNC1\":2, \"CNC2\":3, \"grinder\":2, \"planer\":1, \"reassemblyArea\":4} \n",
    "\n",
    "# market limitation of sells\n",
    "max_sales = {\n",
    "    (\"Jan\", \"P1\") : 500,\n",
    "    (\"Jan\", \"P2\") : 500,\n",
    "    (\"Jan\", \"P3\") : 1000,\n",
    "    (\"Jan\", \"P4\") : 400,\n",
    "    (\"Jan\", \"P5\") : 200,\n",
    "    (\"Jan\", \"P6\") : 500,\n",
    "\n",
    "    (\"Feb\", \"P1\") : 300,\n",
    "    (\"Feb\", \"P2\") : 600,\n",
    "    (\"Feb\", \"P3\") : 0,\n",
    "    (\"Feb\", \"P4\") : 0,\n",
    "    (\"Feb\", \"P5\") : 500,\n",
    "    (\"Feb\", \"P6\") : 400,\n",
    "\n",
    "    (\"Mar\", \"P1\") : 600,\n",
    "    (\"Mar\", \"P2\") : 300,\n",
    "    (\"Mar\", \"P3\") : 200,\n",
    "    (\"Mar\", \"P4\") : 0,\n",
    "    (\"Mar\", \"P5\") : 700,\n",
    "    (\"Mar\", \"P6\") : 300,\n",
    "\n",
    "    (\"Apr\", \"P1\") : 200,\n",
    "    (\"Apr\", \"P2\") : 100,\n",
    "    (\"Apr\", \"P3\") : 200,\n",
    "    (\"Apr\", \"P4\") : 500,\n",
    "    (\"Apr\", \"P5\") : 200,\n",
    "    (\"Apr\", \"P6\") : 450,\n",
    "\n",
    "    (\"May\", \"P1\") : 100,\n",
    "    (\"May\", \"P2\") : 100,\n",
    "    (\"May\", \"P3\") : 300,\n",
    "    (\"May\", \"P4\") : 0,\n",
    "    (\"May\", \"P5\") : 400,\n",
    "    (\"May\", \"P6\") : 300\n",
    "}\n",
    "\n",
    "max_inventory = 200\n",
    "holding_cost = 0.2\n",
    "store_target = 40\n",
    "hours_per_month = 2*8*20"
   ]
  },
  {
   "cell_type": "code",
   "execution_count": 133,
   "metadata": {
    "ExecuteTime": {
     "end_time": "2021-10-03T00:39:52.821468Z",
     "start_time": "2021-10-03T00:39:52.809477Z"
    }
   },
   "outputs": [],
   "source": [
    "factory = gp.Model('Factory Planning')\n",
    "\n",
    "make = factory.addVars(months, products, name=\"Make\") # quantity manufactured\n",
    "store = factory.addVars(months, products, ub=max_inventory, name=\"Store\") # quantity stored\n",
    "sell = factory.addVars(months, products, ub=max_sales, name=\"Sell\") # quantity sold"
   ]
  },
  {
   "cell_type": "code",
   "execution_count": 134,
   "metadata": {
    "ExecuteTime": {
     "end_time": "2021-10-03T00:39:53.231170Z",
     "start_time": "2021-10-03T00:39:53.211154Z"
    }
   },
   "outputs": [],
   "source": [
    "#1. Initial Balance\n",
    "Balance0 = factory.addConstrs((make[months[0], product] == sell[months[0], product] \n",
    "                  + store[months[0], product] for product in products), name=\"Initial_Balance\")\n",
    "    \n",
    "#2. Balance\n",
    "Balance = factory.addConstrs((store[months[months.index(month) -1], product] + \n",
    "                make[month, product] == sell[month, product] + store[month, product] \n",
    "                for product in products for month in months \n",
    "                if month != months[0]), name=\"Balance\")"
   ]
  },
  {
   "cell_type": "code",
   "execution_count": 135,
   "metadata": {
    "ExecuteTime": {
     "end_time": "2021-10-03T00:39:53.638965Z",
     "start_time": "2021-10-03T00:39:53.630930Z"
    }
   },
   "outputs": [],
   "source": [
    "#3. Inventory Target\n",
    "TargetInv = factory.addConstrs((store[months[-1], product] == store_target for product in products),  name=\"End_Balance\")"
   ]
  },
  {
   "cell_type": "code",
   "execution_count": 136,
   "metadata": {
    "ExecuteTime": {
     "end_time": "2021-10-03T00:39:54.387357Z",
     "start_time": "2021-10-03T00:39:54.370355Z"
    }
   },
   "outputs": [],
   "source": [
    "#4. Machine Capacity\n",
    "\n",
    "MachineCap = factory.addConstrs((gp.quicksum(time_req[machine][product] * make[month, product]\n",
    "                             for product in time_req[machine])\n",
    "                    <= hours_per_month * (installed[machine] - down.get((month, machine), 0))\n",
    "                    for machine in machines for month in months),\n",
    "                   name = \"Capacity\")"
   ]
  },
  {
   "cell_type": "code",
   "execution_count": 137,
   "metadata": {
    "ExecuteTime": {
     "end_time": "2021-10-03T00:39:55.289818Z",
     "start_time": "2021-10-03T00:39:55.277827Z"
    }
   },
   "outputs": [],
   "source": [
    "#0. Objective Function\n",
    "obj = gp.quicksum(profit[product] * sell[month, product] -  holding_cost * store[month, product]  \n",
    "               for month in months for product in products)\n",
    "\n",
    "factory.setObjective(obj, GRB.MAXIMIZE)"
   ]
  },
  {
   "cell_type": "code",
   "execution_count": 138,
   "metadata": {
    "ExecuteTime": {
     "end_time": "2021-10-03T00:40:02.304102Z",
     "start_time": "2021-10-03T00:40:02.279085Z"
    }
   },
   "outputs": [
    {
     "name": "stdout",
     "output_type": "stream",
     "text": [
      "Gurobi Optimizer version 9.1.2 build v9.1.2rc0 (win64)\n",
      "Thread count: 4 physical cores, 8 logical processors, using up to 8 threads\n",
      "Optimize a model with 66 rows, 90 columns and 255 nonzeros\n",
      "Model fingerprint: 0xf68c8638\n",
      "Coefficient statistics:\n",
      "  Matrix range     [3e-02, 1e+00]\n",
      "  Objective range  [2e-01, 2e+01]\n",
      "  Bounds range     [1e+02, 1e+03]\n",
      "  RHS range        [4e+01, 1e+03]\n",
      "Presolve removed 28 rows and 18 columns\n",
      "Presolve time: 0.01s\n",
      "Presolved: 38 rows, 72 columns, 171 nonzeros\n",
      "\n",
      "Iteration    Objective       Primal Inf.    Dual Inf.      Time\n",
      "       0    9.4352000e+04   1.385400e+03   0.000000e+00      0s\n",
      "      16    6.5121333e+04   0.000000e+00   0.000000e+00      0s\n",
      "\n",
      "Solved in 16 iterations and 0.01 seconds\n",
      "Optimal objective  6.512133333e+04\n"
     ]
    }
   ],
   "source": [
    "factory.optimize()"
   ]
  },
  {
   "cell_type": "code",
   "execution_count": 139,
   "metadata": {
    "ExecuteTime": {
     "end_time": "2021-10-03T00:40:13.331229Z",
     "start_time": "2021-10-03T00:40:13.290189Z"
    }
   },
   "outputs": [
    {
     "data": {
      "text/html": [
       "<div>\n",
       "<style scoped>\n",
       "    .dataframe tbody tr th:only-of-type {\n",
       "        vertical-align: middle;\n",
       "    }\n",
       "\n",
       "    .dataframe tbody tr th {\n",
       "        vertical-align: top;\n",
       "    }\n",
       "\n",
       "    .dataframe thead th {\n",
       "        text-align: right;\n",
       "    }\n",
       "</style>\n",
       "<table border=\"1\" class=\"dataframe\">\n",
       "  <thead>\n",
       "    <tr style=\"text-align: right;\">\n",
       "      <th></th>\n",
       "      <th>P1</th>\n",
       "      <th>P2</th>\n",
       "      <th>P3</th>\n",
       "      <th>P4</th>\n",
       "      <th>P5</th>\n",
       "      <th>P6</th>\n",
       "    </tr>\n",
       "  </thead>\n",
       "  <tbody>\n",
       "    <tr>\n",
       "      <th>Jan</th>\n",
       "      <td>0.0</td>\n",
       "      <td>500.0</td>\n",
       "      <td>130.2</td>\n",
       "      <td>0.0</td>\n",
       "      <td>375.0</td>\n",
       "      <td>366.7</td>\n",
       "    </tr>\n",
       "    <tr>\n",
       "      <th>Feb</th>\n",
       "      <td>300.0</td>\n",
       "      <td>800.0</td>\n",
       "      <td>93.3</td>\n",
       "      <td>33.3</td>\n",
       "      <td>325.0</td>\n",
       "      <td>0.0</td>\n",
       "    </tr>\n",
       "    <tr>\n",
       "      <th>Mar</th>\n",
       "      <td>600.0</td>\n",
       "      <td>100.0</td>\n",
       "      <td>106.7</td>\n",
       "      <td>0.0</td>\n",
       "      <td>713.3</td>\n",
       "      <td>0.0</td>\n",
       "    </tr>\n",
       "    <tr>\n",
       "      <th>Apr</th>\n",
       "      <td>200.0</td>\n",
       "      <td>100.0</td>\n",
       "      <td>200.0</td>\n",
       "      <td>466.7</td>\n",
       "      <td>333.3</td>\n",
       "      <td>100.0</td>\n",
       "    </tr>\n",
       "    <tr>\n",
       "      <th>May</th>\n",
       "      <td>140.0</td>\n",
       "      <td>140.0</td>\n",
       "      <td>340.0</td>\n",
       "      <td>40.0</td>\n",
       "      <td>293.3</td>\n",
       "      <td>340.0</td>\n",
       "    </tr>\n",
       "  </tbody>\n",
       "</table>\n",
       "</div>"
      ],
      "text/plain": [
       "        P1     P2     P3     P4     P5     P6\n",
       "Jan    0.0  500.0  130.2    0.0  375.0  366.7\n",
       "Feb  300.0  800.0   93.3   33.3  325.0    0.0\n",
       "Mar  600.0  100.0  106.7    0.0  713.3    0.0\n",
       "Apr  200.0  100.0  200.0  466.7  333.3  100.0\n",
       "May  140.0  140.0  340.0   40.0  293.3  340.0"
      ]
     },
     "execution_count": 139,
     "metadata": {},
     "output_type": "execute_result"
    }
   ],
   "source": [
    "rows = months.copy()\n",
    "columns = products.copy()\n",
    "make_plan = pd.DataFrame(columns=columns, index=rows, data=0.0)\n",
    "\n",
    "for month, product in make.keys():\n",
    "    if (abs(make[month, product].x) > 1e-6):\n",
    "        make_plan.loc[month, product] = np.round(make[month, product].x, 1)\n",
    "make_plan"
   ]
  },
  {
   "cell_type": "code",
   "execution_count": 140,
   "metadata": {
    "ExecuteTime": {
     "end_time": "2021-10-03T00:40:20.051534Z",
     "start_time": "2021-10-03T00:40:20.034568Z"
    }
   },
   "outputs": [
    {
     "data": {
      "text/html": [
       "<div>\n",
       "<style scoped>\n",
       "    .dataframe tbody tr th:only-of-type {\n",
       "        vertical-align: middle;\n",
       "    }\n",
       "\n",
       "    .dataframe tbody tr th {\n",
       "        vertical-align: top;\n",
       "    }\n",
       "\n",
       "    .dataframe thead th {\n",
       "        text-align: right;\n",
       "    }\n",
       "</style>\n",
       "<table border=\"1\" class=\"dataframe\">\n",
       "  <thead>\n",
       "    <tr style=\"text-align: right;\">\n",
       "      <th></th>\n",
       "      <th>P1</th>\n",
       "      <th>P2</th>\n",
       "      <th>P3</th>\n",
       "      <th>P4</th>\n",
       "      <th>P5</th>\n",
       "      <th>P6</th>\n",
       "    </tr>\n",
       "  </thead>\n",
       "  <tbody>\n",
       "    <tr>\n",
       "      <th>Jan</th>\n",
       "      <td>0.0</td>\n",
       "      <td>500.0</td>\n",
       "      <td>130.2</td>\n",
       "      <td>0.0</td>\n",
       "      <td>200.0</td>\n",
       "      <td>366.7</td>\n",
       "    </tr>\n",
       "    <tr>\n",
       "      <th>Feb</th>\n",
       "      <td>300.0</td>\n",
       "      <td>600.0</td>\n",
       "      <td>0.0</td>\n",
       "      <td>0.0</td>\n",
       "      <td>500.0</td>\n",
       "      <td>0.0</td>\n",
       "    </tr>\n",
       "    <tr>\n",
       "      <th>Mar</th>\n",
       "      <td>600.0</td>\n",
       "      <td>300.0</td>\n",
       "      <td>200.0</td>\n",
       "      <td>0.0</td>\n",
       "      <td>700.0</td>\n",
       "      <td>0.0</td>\n",
       "    </tr>\n",
       "    <tr>\n",
       "      <th>Apr</th>\n",
       "      <td>200.0</td>\n",
       "      <td>100.0</td>\n",
       "      <td>200.0</td>\n",
       "      <td>500.0</td>\n",
       "      <td>200.0</td>\n",
       "      <td>100.0</td>\n",
       "    </tr>\n",
       "    <tr>\n",
       "      <th>May</th>\n",
       "      <td>100.0</td>\n",
       "      <td>100.0</td>\n",
       "      <td>300.0</td>\n",
       "      <td>0.0</td>\n",
       "      <td>400.0</td>\n",
       "      <td>300.0</td>\n",
       "    </tr>\n",
       "  </tbody>\n",
       "</table>\n",
       "</div>"
      ],
      "text/plain": [
       "        P1     P2     P3     P4     P5     P6\n",
       "Jan    0.0  500.0  130.2    0.0  200.0  366.7\n",
       "Feb  300.0  600.0    0.0    0.0  500.0    0.0\n",
       "Mar  600.0  300.0  200.0    0.0  700.0    0.0\n",
       "Apr  200.0  100.0  200.0  500.0  200.0  100.0\n",
       "May  100.0  100.0  300.0    0.0  400.0  300.0"
      ]
     },
     "execution_count": 140,
     "metadata": {},
     "output_type": "execute_result"
    }
   ],
   "source": [
    "rows = months.copy()\n",
    "columns = products.copy()\n",
    "sell_plan = pd.DataFrame(columns=columns, index=rows, data=0.0)\n",
    "\n",
    "for month, product in sell.keys():\n",
    "    if (abs(sell[month, product].x) > 1e-6):\n",
    "        sell_plan.loc[month, product] = np.round(sell[month, product].x, 1)\n",
    "sell_plan"
   ]
  },
  {
   "cell_type": "code",
   "execution_count": 141,
   "metadata": {
    "ExecuteTime": {
     "end_time": "2021-10-03T00:40:31.584837Z",
     "start_time": "2021-10-03T00:40:31.555841Z"
    }
   },
   "outputs": [
    {
     "data": {
      "text/html": [
       "<div>\n",
       "<style scoped>\n",
       "    .dataframe tbody tr th:only-of-type {\n",
       "        vertical-align: middle;\n",
       "    }\n",
       "\n",
       "    .dataframe tbody tr th {\n",
       "        vertical-align: top;\n",
       "    }\n",
       "\n",
       "    .dataframe thead th {\n",
       "        text-align: right;\n",
       "    }\n",
       "</style>\n",
       "<table border=\"1\" class=\"dataframe\">\n",
       "  <thead>\n",
       "    <tr style=\"text-align: right;\">\n",
       "      <th></th>\n",
       "      <th>P1</th>\n",
       "      <th>P2</th>\n",
       "      <th>P3</th>\n",
       "      <th>P4</th>\n",
       "      <th>P5</th>\n",
       "      <th>P6</th>\n",
       "    </tr>\n",
       "  </thead>\n",
       "  <tbody>\n",
       "    <tr>\n",
       "      <th>Jan</th>\n",
       "      <td>0.0</td>\n",
       "      <td>0.0</td>\n",
       "      <td>0.0</td>\n",
       "      <td>0.0</td>\n",
       "      <td>175.0</td>\n",
       "      <td>0.0</td>\n",
       "    </tr>\n",
       "    <tr>\n",
       "      <th>Feb</th>\n",
       "      <td>0.0</td>\n",
       "      <td>200.0</td>\n",
       "      <td>93.3</td>\n",
       "      <td>33.3</td>\n",
       "      <td>0.0</td>\n",
       "      <td>0.0</td>\n",
       "    </tr>\n",
       "    <tr>\n",
       "      <th>Mar</th>\n",
       "      <td>0.0</td>\n",
       "      <td>0.0</td>\n",
       "      <td>0.0</td>\n",
       "      <td>33.3</td>\n",
       "      <td>13.3</td>\n",
       "      <td>0.0</td>\n",
       "    </tr>\n",
       "    <tr>\n",
       "      <th>Apr</th>\n",
       "      <td>0.0</td>\n",
       "      <td>0.0</td>\n",
       "      <td>0.0</td>\n",
       "      <td>0.0</td>\n",
       "      <td>146.7</td>\n",
       "      <td>0.0</td>\n",
       "    </tr>\n",
       "    <tr>\n",
       "      <th>May</th>\n",
       "      <td>40.0</td>\n",
       "      <td>40.0</td>\n",
       "      <td>40.0</td>\n",
       "      <td>40.0</td>\n",
       "      <td>40.0</td>\n",
       "      <td>40.0</td>\n",
       "    </tr>\n",
       "  </tbody>\n",
       "</table>\n",
       "</div>"
      ],
      "text/plain": [
       "       P1     P2    P3    P4     P5    P6\n",
       "Jan   0.0    0.0   0.0   0.0  175.0   0.0\n",
       "Feb   0.0  200.0  93.3  33.3    0.0   0.0\n",
       "Mar   0.0    0.0   0.0  33.3   13.3   0.0\n",
       "Apr   0.0    0.0   0.0   0.0  146.7   0.0\n",
       "May  40.0   40.0  40.0  40.0   40.0  40.0"
      ]
     },
     "execution_count": 141,
     "metadata": {},
     "output_type": "execute_result"
    }
   ],
   "source": [
    "rows = months.copy()\n",
    "columns = products.copy()\n",
    "store_plan = pd.DataFrame(columns=columns, index=rows, data=0.0)\n",
    "\n",
    "for month, product in store.keys():\n",
    "    if (abs(store[month, product].x) > 1e-6):\n",
    "        store_plan.loc[month, product] = np.round(store[month, product].x, 1)\n",
    "store_plan"
   ]
  },
  {
   "cell_type": "code",
   "execution_count": 142,
   "metadata": {
    "ExecuteTime": {
     "end_time": "2021-10-03T00:40:42.604959Z",
     "start_time": "2021-10-03T00:40:42.590008Z"
    }
   },
   "outputs": [],
   "source": [
    "factory.write(\"factory-planning-1-output.sol\")"
   ]
  },
  {
   "cell_type": "code",
   "execution_count": null,
   "metadata": {},
   "outputs": [],
   "source": []
  }
 ],
 "metadata": {
  "kernelspec": {
   "display_name": "Python 3",
   "language": "python",
   "name": "python3"
  },
  "language_info": {
   "codemirror_mode": {
    "name": "ipython",
    "version": 3
   },
   "file_extension": ".py",
   "mimetype": "text/x-python",
   "name": "python",
   "nbconvert_exporter": "python",
   "pygments_lexer": "ipython3",
   "version": "3.8.5"
  }
 },
 "nbformat": 4,
 "nbformat_minor": 4
}
